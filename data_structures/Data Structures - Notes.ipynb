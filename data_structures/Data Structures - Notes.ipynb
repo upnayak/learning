{
 "cells": [
  {
   "cell_type": "markdown",
   "metadata": {},
   "source": [
    "###### What is Data Structure?\n",
    "###### Data Structures are different ways of efficiently storing data on a computer.\n",
    "\n",
    "###### What is an algorithm?\n",
    "###### Algorithm are the set of rules for a program to accomplish a task\n"
   ]
  },
  {
   "cell_type": "code",
   "execution_count": null,
   "metadata": {},
   "outputs": [],
   "source": []
  },
  {
   "cell_type": "markdown",
   "metadata": {},
   "source": [
    "###### Types of data structures\n",
    "* Primitive\n",
    "    * Boolean\n",
    "    * String\n",
    "    * Float\n",
    "    * Integer\n",
    "    * Character\n",
    "* Non-Primitive\n",
    "    * Linear\n",
    "        * Static\n",
    "            * Arrays\n",
    "        * Dynamic\n",
    "            * Stack\n",
    "            * Queue\n",
    "            * Linked Lists\n",
    "    * Non - Linear\n",
    "        * Tree\n",
    "        * Graph"
   ]
  },
  {
   "cell_type": "code",
   "execution_count": null,
   "metadata": {},
   "outputs": [],
   "source": []
  },
  {
   "cell_type": "markdown",
   "metadata": {},
   "source": [
    "###### Types of Algorithms\n",
    "* **_Simple Reccursive_** : Similar to iterative, recursion acts as a loop.\n",
    "* **_Divide and Conquer_** : Breaking down the problem into smaller sub problems of **same type** and solve the sub problems recursively. The solutions for sub problems are combine to form the solution for the original problem. It contains  atleast two recursive calls. e.g: Merge Sort,  Quick Sort\n",
    "* **_Dynamic Programming_**: It works based on memoization. The past results are used to obtain new results. It is used in optimization problems.\n",
    "* **_Greedy_**: This is also for optimization. At each step, we take the best we can. We hope that by selecting a local optimal solution at each step, we cann arrive at a global solution.\n",
    "* **_Brute Force_**: It tries all possible solutions untill an optimal one is found.\n",
    "* **_Randomized_**: Uses a random number atleast once to make a decision."
   ]
  },
  {
   "cell_type": "code",
   "execution_count": null,
   "metadata": {},
   "outputs": [],
   "source": []
  }
 ],
 "metadata": {
  "kernelspec": {
   "display_name": "Python [conda env:root] *",
   "language": "python",
   "name": "conda-root-py"
  },
  "language_info": {
   "codemirror_mode": {
    "name": "ipython",
    "version": 3
   },
   "file_extension": ".py",
   "mimetype": "text/x-python",
   "name": "python",
   "nbconvert_exporter": "python",
   "pygments_lexer": "ipython3",
   "version": "3.7.2"
  }
 },
 "nbformat": 4,
 "nbformat_minor": 2
}
