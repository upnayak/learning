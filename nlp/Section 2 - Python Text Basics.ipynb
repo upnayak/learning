{
 "cells": [
  {
   "cell_type": "markdown",
   "metadata": {},
   "source": [
    "## Section 2: Python Text Basics"
   ]
  },
  {
   "cell_type": "markdown",
   "metadata": {},
   "source": [
    "#### F-Strings"
   ]
  },
  {
   "cell_type": "code",
   "execution_count": 1,
   "metadata": {},
   "outputs": [
    {
     "name": "stdout",
     "output_type": "stream",
     "text": [
      "My name is Nayak\n",
      "My name is Nayak\n",
      "Your vehicle is a car made by honda\n"
     ]
    }
   ],
   "source": [
    "#Fstrings\n",
    "\n",
    "#Prior to 3.6\n",
    "name=\"Nayak\"\n",
    "print(\"My name is {}\".format(name))\n",
    "\n",
    "#> 3.6\n",
    "name=\"Nayak\"\n",
    "print(f\"My name is {name}\")\n",
    "\n",
    "properties = {\"vehicle\":\"car\", \"make\":\"honda\"}\n",
    "print(f\"Your vehicle is a {properties['vehicle']} made by {properties['make']}\")"
   ]
  },
  {
   "cell_type": "code",
   "execution_count": 2,
   "metadata": {},
   "outputs": [
    {
     "name": "stdout",
     "output_type": "stream",
     "text": [
      "Author     Topic           ---------------Pages\n",
      "Feynman    Physics         -----------------245\n",
      "Huxley     Dytopian        -----------------196\n",
      "Rowling    Fantasy         -----------------722\n",
      "Coelho     Fiction         ------------------97\n",
      "Harai      Non-Fiction     -----------------899\n"
     ]
    }
   ],
   "source": [
    "#Padding in F-string\n",
    "library = [\n",
    "    ('Author', 'Topic', 'Pages'),\n",
    "    ('Feynman', 'Physics', '245'),\n",
    "    ('Huxley', 'Dytopian', '196'),\n",
    "    ('Rowling', 'Fantasy', '722'),\n",
    "    ('Coelho', 'Fiction', '97'),\n",
    "    ('Harai', 'Non-Fiction', '899')\n",
    "]\n",
    "\n",
    "for author, topic, pages in library:\n",
    "    print(f\"{author:{10}} {topic:{15}} {pages:->{20}}\")"
   ]
  },
  {
   "cell_type": "code",
   "execution_count": 3,
   "metadata": {},
   "outputs": [
    {
     "name": "stdout",
     "output_type": "stream",
     "text": [
      "2020-12-31 00:00:00\n",
      "December 31 2020\n"
     ]
    }
   ],
   "source": [
    "#Date formatting in F-string\n",
    "#http://strftime.org/\n",
    "from datetime import datetime\n",
    "today = datetime(year=2020,month=12,day=31)\n",
    "print(f\"{today}\")\n",
    "print(f\"{today:%B} {today:%d} {today:%Y}\")\n"
   ]
  },
  {
   "cell_type": "markdown",
   "metadata": {},
   "source": [
    "#### File Operations"
   ]
  },
  {
   "cell_type": "code",
   "execution_count": 4,
   "metadata": {},
   "outputs": [
    {
     "name": "stdout",
     "output_type": "stream",
     "text": [
      "Overwriting gajendra.txt\n"
     ]
    }
   ],
   "source": [
    "%%writefile gajendra.txt\n",
    "शुक्लांबरधरं विष्णुं शशि वर्णं चतुर्भुजं ।\n",
    "प्रसन्न वदनं ध्यायेत सर्व विघ्नोपशान्तये॥"
   ]
  },
  {
   "cell_type": "code",
   "execution_count": 5,
   "metadata": {},
   "outputs": [
    {
     "name": "stdout",
     "output_type": "stream",
     "text": [
      "शुक्लांबरधरं विष्णुं शशि वर्णं चतुर्भुजं ।\n",
      "प्रसन्न वदनं ध्यायेत सर्व विघ्नोपशान्तये॥\n",
      "\n",
      "------\n",
      "शुक्लांबरधरं विष्णुं शशि वर्णं चतुर्भुजं ।\n",
      "प्रसन्न वदनं ध्यायेत सर्व विघ्नोपशान्तये॥\n",
      "\n"
     ]
    }
   ],
   "source": [
    "with open('gajendra.txt') as file:\n",
    "    print(file.read())\n",
    "    print(\"------\")\n",
    "    file.seek(0) #Go to Beginning since file read completed in previous line\n",
    "    print(file.read())"
   ]
  },
  {
   "cell_type": "code",
   "execution_count": 6,
   "metadata": {},
   "outputs": [
    {
     "name": "stdout",
     "output_type": "stream",
     "text": [
      "['शुक्लांबरधरं विष्णुं शशि वर्णं चतुर्भुजं ।\\n', 'प्रसन्न वदनं ध्यायेत सर्व विघ्नोपशान्तये॥\\n']\n",
      "शुक्लांबरधरं\n",
      "प्रसन्न\n"
     ]
    }
   ],
   "source": [
    "#Read file as seperate lines\n",
    "with open('gajendra.txt') as file:\n",
    "    lines = file.readlines()\n",
    "    print(lines)\n",
    "    for lines in lines:\n",
    "        print(lines.split()[0])"
   ]
  },
  {
   "cell_type": "code",
   "execution_count": 7,
   "metadata": {},
   "outputs": [
    {
     "name": "stdout",
     "output_type": "stream",
     "text": [
      "\n"
     ]
    }
   ],
   "source": [
    "#Write to a file\n",
    "#Modes\n",
    "# w: write (overwrite)\n",
    "# w+ write and read (overwrite)\n",
    "# a+: add to the file and read (append)\n",
    "with open('russian_president.txt', 'a+') as file:\n",
    "    file.write(\"\"\"Борис Ельцин\n",
    "    Владимир Путин\n",
    "    Дмитрий Медведев\n",
    "                  \"\"\")\n",
    "    print(file.read())"
   ]
  },
  {
   "cell_type": "markdown",
   "metadata": {},
   "source": [
    "#### Working with PDF files"
   ]
  },
  {
   "cell_type": "code",
   "execution_count": 9,
   "metadata": {},
   "outputs": [],
   "source": [
    "import PyPDF2"
   ]
  },
  {
   "cell_type": "code",
   "execution_count": null,
   "metadata": {},
   "outputs": [],
   "source": [
    "with open()"
   ]
  }
 ],
 "metadata": {
  "kernelspec": {
   "display_name": "Python 3",
   "language": "python",
   "name": "python3"
  },
  "language_info": {
   "codemirror_mode": {
    "name": "ipython",
    "version": 3
   },
   "file_extension": ".py",
   "mimetype": "text/x-python",
   "name": "python",
   "nbconvert_exporter": "python",
   "pygments_lexer": "ipython3",
   "version": "3.7.9"
  }
 },
 "nbformat": 4,
 "nbformat_minor": 4
}
